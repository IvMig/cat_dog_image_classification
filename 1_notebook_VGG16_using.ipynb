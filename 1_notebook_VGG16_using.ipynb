{
 "cells": [
  {
   "cell_type": "markdown",
   "metadata": {},
   "source": [
    "# Классификация изображений с помощью Keras (VGG16)\n",
    "\n",
    "Описание:\n",
    "\n",
    "Решение задачи классификации образов (кошек и собак) с помощью keras (VGG16, Imagenet). \n",
    "\n",
    "Для начала подключим необходимые модули и выведем их версии, в том числе версию python3. \n",
    "Также выведем абсолютный путь к папке с python3 (для разработчиков).\n",
    "\n",
    "Ссылки на сторонние библиотеки:\n",
    "\n",
    "[matplotlib](https://matplotlib.org/)\n",
    "\n",
    "[keras](https://keras.io/)\n",
    "\n",
    "[urllib python3](https://urllib3.readthedocs.io/en/latest/)\n",
    "\n",
    "[numpy](http://www.numpy.org/)\n",
    "\n",
    "[OpenCV python3](https://docs.opencv.org/3.0-beta/doc/py_tutorials/py_tutorials.html)\n",
    "\n",
    "Нажмите `Shift+Enter`, чтобы выполнить код в ячейке. Или нажмите `Kernel --> Restart and Run All` для запуска всех ячеек по очереди."
   ]
  },
  {
   "cell_type": "code",
   "execution_count": null,
   "metadata": {
    "collapsed": false
   },
   "outputs": [],
   "source": [
    "%matplotlib inline\n",
    "\n",
    "# Одна из библиотек для работы с нейросетями\n",
    "import keras\n",
    "\n",
    "# Архитектура VGG16\n",
    "from keras.applications.vgg16 import VGG16\n",
    "\n",
    "# Модуль для работы с изображениями\n",
    "from keras.preprocessing import image\n",
    "\n",
    "# Оптимизаторы\n",
    "from keras import optimizers\n",
    "\n",
    "# Функции препроцессинга и декодировки предсказания для VGG16\n",
    "from keras.applications.vgg16 import preprocess_input, decode_predictions\n",
    "\n",
    "# Вспомогательный модуль\n",
    "from keras.utils import np_utils\n",
    "\n",
    "# Модуль os - функции для работы с операционной системой, не зависящие от используемой операционной системы.\n",
    "import os\n",
    "\n",
    "# Garbage collector\n",
    "import gc\n",
    "\n",
    "# Библиотека для работы с графиками и изображениями\n",
    "import matplotlib\n",
    "from matplotlib import pyplot as plt\n",
    "\n",
    "# HTTP клиент\n",
    "import urllib.request\n",
    "\n",
    "# Класс для работы с файлами формата json\n",
    "import json\n",
    "\n",
    "# Полезная утилит показа progress-bar\n",
    "from tqdm import tqdm_notebook\n",
    "\n",
    "# Модуль из OpenCV. Здесь мы применяем resize для определения битых картинок\n",
    "import cv2\n",
    "\n",
    "# Библиотека для быстрой работы с многомерными массивами\n",
    "import numpy as np\n",
    "\n",
    "# Модуль, который обеспечивает доступ к некоторым переменным и функциям,\n",
    "# взаимодействующим с интерпретатором python.\n",
    "import sys\n",
    "\n",
    "# Модуль для доступа к логину и паролю пользователя\n",
    "import getpass\n",
    "\n",
    "# Модуль для работы с файлами формата ZIP\n",
    "import zipfile\n",
    "\n",
    "# Модуль glob находит все пути, совпадающие с заданным шаблоном в соответствии с правилами, используемыми оболочкой Unix.\n",
    "import glob\n",
    "\n",
    "usrname = getpass.getuser()\n",
    "\n",
    "print('Версия python3:', sys.version)\n",
    "print('Версия keras:', keras.__version__)\n",
    "print('Версия matplotlib:', matplotlib.__version__)\n",
    "print('Версия urlib.request', urllib.request.__version__)\n",
    "print('Версия numpy', np.__version__)\n",
    "print('Версия OpenCV:', cv2.__version__)\n",
    "print('Абсолютный путь к папке python3:', sys.executable)\n",
    "print('Имя пользователя', usrname)"
   ]
  },
  {
   "cell_type": "markdown",
   "metadata": {},
   "source": [
    "Теперь скачаем данные. Это размеченные картинки кошек и собак с соревнования Kaggle. Получить доступ к ним с одноименного сайта проблематично. К счастью, на сайте Майкрософт эти данные тоже есть, поэтому скачивать будем оттуда. Обучение нейросети на практике занимает от одного дня до недели. Однако в Keras уже есть предобученная модель, которую можно использовать."
   ]
  },
  {
   "cell_type": "code",
   "execution_count": null,
   "metadata": {
    "collapsed": false
   },
   "outputs": [],
   "source": [
    "%%time\n",
    "\n",
    "path_to_data_no_split = os.getcwd() + '/data_no_split/'\n",
    "path_to_zip_file = path_to_data_no_split + 'cat_dog_images.zip'    \n",
    "\n",
    "# Создаем директорию, если таковая отсутствует\n",
    "if not os.path.exists(path_to_data_no_split):\n",
    "    os.makedirs(path_to_data_no_split)\n",
    "\n",
    "# Скачивание данных\n",
    "url = 'https://download.microsoft.com/download/3/E/1/3E1C3F21-ECDB-4869-8368-6DEBA77B919F/kagglecatsanddogs_3367a.zip'\n",
    "if not os.path.exists(path_to_zip_file):\n",
    "    urllib.request.urlretrieve(url, path_to_zip_file)\n",
    "\n",
    "# Распаковка архива\n",
    "zip_ref = zipfile.ZipFile(path_to_zip_file, 'r')\n",
    "if not os.path.exists(path_to_data_no_split+'PetImages/'):\n",
    "    zip_ref.extractall(path_to_data_no_split)\n",
    "zip_ref.close()\n",
    "\n",
    "gc.collect"
   ]
  },
  {
   "cell_type": "markdown",
   "metadata": {},
   "source": [
    "Теперь необходимо проверить картинки на качество: некоторые файлы могу быть \"битыми\". Для этого определим функцию `check_class_num`. В ней мы проверяем, сколько изображений можно использовать для обучения, сквозной проверки и теста. Заодно получим список имен файлов, которые можно использовать."
   ]
  },
  {
   "cell_type": "code",
   "execution_count": null,
   "metadata": {
    "collapsed": false
   },
   "outputs": [],
   "source": [
    "# Обозначения классов\n",
    "classes = [\"dog\", \"cat\"]\n",
    "num_classes = len(classes)\n",
    "\n",
    "# Размерность изображения\n",
    "img_width, img_height = 224, 224\n",
    "\n",
    "# Посчитать число небитых картинок\n",
    "def check_class_num(img_begin=0, img_count=100):\n",
    "    folders = [\"Dog\", \"Cat\"]\n",
    "    cat_dog_num = {folders[0] : 0, folders[1] : 0}\n",
    "    cat_dog_list = {folders[0] : [], folders[1] : []}\n",
    "    \n",
    "    for fld in folders:\n",
    "        index = folders.index(fld)\n",
    "        path = os.path.join(path_to_data_no_split+'PetImages/', fld, '*g')\n",
    "        files = glob.glob(path)\n",
    "        i = 0\n",
    "        \n",
    "        for fl in tqdm_notebook(files[img_begin:img_begin+img_count]):\n",
    "            flbase = os.path.basename(fl)\n",
    "            try:\n",
    "                img = cv2.imread(fl)\n",
    "                resized = cv2.resize(img, (img_width, img_height), cv2.INTER_LINEAR)\n",
    "            except:\n",
    "                continue\n",
    "            cat_dog_num[fld] += 1\n",
    "            cat_dog_list[fld] += [fl]\n",
    "            \n",
    "    gc.collect\n",
    "    return cat_dog_num, cat_dog_list"
   ]
  },
  {
   "cell_type": "code",
   "execution_count": null,
   "metadata": {
    "collapsed": false
   },
   "outputs": [],
   "source": [
    "cat_dog_num, cat_dog_list = check_class_num(img_begin=0, img_count=12500)"
   ]
  },
  {
   "cell_type": "markdown",
   "metadata": {},
   "source": [
    "Мы получили список файлов, которые можно читать и использовать для классификации. Сейчас создадим модель нейронной сети VGG-16 с весами. В Keras уже есть натренированная модель на основе данных ImageNet. Модель решает задачу классификации для 1000 классов. Эта модель умеет классифицировать гораздо более широкий диапазон объектов, но все интересно, как она будет работать на наших изображениях."
   ]
  },
  {
   "cell_type": "code",
   "execution_count": null,
   "metadata": {
    "collapsed": true
   },
   "outputs": [],
   "source": [
    "# https://keras.io/applications/\n",
    "model = VGG16(weights='imagenet')"
   ]
  },
  {
   "cell_type": "markdown",
   "metadata": {},
   "source": [
    "Модель загрузили, теперь попробуем ее применить. Для этого определим функцию `predict_show`."
   ]
  },
  {
   "cell_type": "code",
   "execution_count": null,
   "metadata": {
    "collapsed": true
   },
   "outputs": [],
   "source": [
    "def predict_show(folder='Dog', count=5):\n",
    "    for img_path in cat_dog_list[folder][:count]:\n",
    "        img = image.load_img(img_path, target_size=(img_width, img_height))\n",
    "        x = image.img_to_array(img)\n",
    "        x = np.expand_dims(x, axis=0)\n",
    "        x = preprocess_input(x)\n",
    "\n",
    "        preds = model.predict(x)\n",
    "\n",
    "        fig, ax = plt.subplots()\n",
    "        ax.imshow(img)\n",
    "        ax.axis('off')  # Очистка от разметки осей\n",
    "        # Формат: (имя_класса, вероятность) top=1 => максимальная уверенность в классе среди 1000 классов.\n",
    "        print('Предсказание:', decode_predictions(preds, top=1)[0][0][1:3])\n",
    "        plt.show()"
   ]
  },
  {
   "cell_type": "markdown",
   "metadata": {},
   "source": [
    "Применим ее для изображений собак."
   ]
  },
  {
   "cell_type": "code",
   "execution_count": null,
   "metadata": {
    "collapsed": false
   },
   "outputs": [],
   "source": [
    "predict_show(folder='Dog', count=5)"
   ]
  },
  {
   "cell_type": "markdown",
   "metadata": {},
   "source": [
    "Применим ее для изображений кошек."
   ]
  },
  {
   "cell_type": "code",
   "execution_count": null,
   "metadata": {
    "collapsed": false
   },
   "outputs": [],
   "source": [
    "predict_show(folder='Cat', count=5)"
   ]
  },
  {
   "cell_type": "markdown",
   "metadata": {},
   "source": [
    "Теперь ясно, что сейчас очень просто начать пользоваться нейросетью: достаточно установить пакеты и написать несложный код. Однако существуют другие задачи, для которых решение приходится писать самому. В блокноте 2_notebook_VGG16_cat_dog_train показана архитектура VGG16, ее модификация для бинарной классификации (собака, кошка), обучение и тесты. Однако запускать код на маломощных машинах строго не рекомендуется, все необходимые файлы либо скачиваются из интернета, либо находятся в директории. Таким образом, в блокноте 3_notebook_VGG16_cat_dog_using используется предобученная модель."
   ]
  }
 ],
 "metadata": {
  "anaconda-cloud": {},
  "kernelspec": {
   "display_name": "Python [conda root]",
   "language": "python",
   "name": "conda-root-py"
  },
  "language_info": {
   "codemirror_mode": {
    "name": "ipython",
    "version": 3
   },
   "file_extension": ".py",
   "mimetype": "text/x-python",
   "name": "python",
   "nbconvert_exporter": "python",
   "pygments_lexer": "ipython3",
   "version": "3.5.2"
  },
  "widgets": {
   "state": {
    "703e1e7279384256b1c86ab9d55cb6bf": {
     "views": [
      {
       "cell_index": 6
      }
     ]
    },
    "b38fb2ab92224e1cb194ea699baa6a9f": {
     "views": [
      {
       "cell_index": 6
      }
     ]
    }
   },
   "version": "1.2.0"
  }
 },
 "nbformat": 4,
 "nbformat_minor": 1
}
